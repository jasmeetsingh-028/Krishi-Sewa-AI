{
 "cells": [
  {
   "cell_type": "code",
   "execution_count": 38,
   "id": "63766e6f",
   "metadata": {},
   "outputs": [],
   "source": [
    "import os\n",
    "import json\n",
    "from langchain.schema import Document\n",
    "from langchain_community.document_loaders import JSONLoader\n",
    "from langchain_chroma import Chroma\n",
    "from langchain.embeddings import HuggingFaceEmbeddings"
   ]
  },
  {
   "cell_type": "code",
   "execution_count": 39,
   "id": "c585c789",
   "metadata": {},
   "outputs": [
    {
     "name": "stdout",
     "output_type": "stream",
     "text": [
      "Loaded 30 documents\n"
     ]
    }
   ],
   "source": [
    "import os, json\n",
    "from langchain.schema import Document\n",
    "\n",
    "def flatten_json_for_rag(directory: str):\n",
    "    docs = []\n",
    "    for filename in os.listdir(directory):\n",
    "        if filename.endswith(\".json\"):\n",
    "            filepath = os.path.join(directory, filename)\n",
    "            # Explicit UTF-8 encoding\n",
    "            with open(filepath, \"r\", encoding=\"utf-8\") as f:\n",
    "                data = json.load(f)\n",
    "\n",
    "            content = json.dumps(data, indent=2)\n",
    "            metadata = {\"source\": filename}\n",
    "            docs.append(Document(page_content=content, metadata=metadata))\n",
    "    return docs\n",
    "\n",
    "docs = flatten_json_for_rag(\"crop_cultivation_json\")\n",
    "print(f\"Loaded {len(docs)} documents\")"
   ]
  },
  {
   "cell_type": "code",
   "execution_count": 40,
   "id": "c9e716b7",
   "metadata": {},
   "outputs": [],
   "source": [
    "from langchain.text_splitter import RecursiveCharacterTextSplitter\n",
    "\n",
    "text_splitter = RecursiveCharacterTextSplitter(\n",
    "    chunk_size=800,\n",
    "    chunk_overlap=100,\n",
    "    add_start_index=True,\n",
    ")\n",
    "\n",
    "split_docs = []\n",
    "\n",
    "\n",
    "for doc in docs:\n",
    "    chunks = text_splitter.split_text(doc.page_content)\n",
    "    for i, chunk in enumerate(chunks):\n",
    "        split_docs.append(Document(page_content=chunk, metadata={**doc.metadata, \"chunk\": i}))"
   ]
  },
  {
   "cell_type": "code",
   "execution_count": 41,
   "id": "04e61e84",
   "metadata": {},
   "outputs": [],
   "source": [
    "embeddings = HuggingFaceEmbeddings(model_name=\"sentence-transformers/all-MiniLM-L6-v2\")"
   ]
  },
  {
   "cell_type": "code",
   "execution_count": 42,
   "id": "d101ca71",
   "metadata": {},
   "outputs": [],
   "source": [
    "from langchain.vectorstores import FAISS\n",
    "from langchain.embeddings.openai import OpenAIEmbeddings\n",
    "\n",
    "vectorstore = FAISS.from_documents(split_docs, embeddings)"
   ]
  },
  {
   "cell_type": "code",
   "execution_count": 33,
   "id": "5e029e0e",
   "metadata": {},
   "outputs": [
    {
     "name": "stdout",
     "output_type": "stream",
     "text": [
      "Vector store saved to 'faiss_index_vectorstore'\n"
     ]
    }
   ],
   "source": [
    "vectorstore.save_local(\"faiss_index_vectorstore\")\n",
    "print(\"Vector store saved to 'faiss_index_vectorstore'\")"
   ]
  },
  {
   "cell_type": "code",
   "execution_count": 43,
   "id": "63b4d897",
   "metadata": {},
   "outputs": [],
   "source": [
    "from langchain.chat_models import init_chat_model\n",
    "from dotenv import load_dotenv\n",
    "\n",
    "load_dotenv()\n",
    "\n",
    "## Create the LLM\n",
    "llm =  init_chat_model(\"gemini-2.5-flash\", model_provider=\"google_genai\")\n"
   ]
  },
  {
   "cell_type": "code",
   "execution_count": 44,
   "id": "27bdb0fc",
   "metadata": {},
   "outputs": [],
   "source": [
    "from langchain.chains import RetrievalQA"
   ]
  },
  {
   "cell_type": "code",
   "execution_count": 45,
   "id": "44745ccc",
   "metadata": {},
   "outputs": [],
   "source": [
    "retriever = vectorstore.as_retriever()\n",
    "qa = RetrievalQA.from_chain_type(\n",
    "    llm=llm,\n",
    "    retriever=retriever\n",
    ")"
   ]
  },
  {
   "cell_type": "code",
   "execution_count": 49,
   "id": "c48f0464",
   "metadata": {},
   "outputs": [
    {
     "name": "stdout",
     "output_type": "stream",
     "text": [
      "{'query': 'what are some diseases in ginger?', 'result': 'Some diseases that affect ginger are:\\n*   Red rot\\n*   Damping off (Rhizoctonia solani)\\n*   Collar rot (Pythium sp., Phytophthora sp. and Sclerotium rolfsii)\\n*   Alternaria leaf spot (Alternaria tagetica, A. zinnia and A. alternata)'}\n"
     ]
    }
   ],
   "source": [
    "query = \"what are some diseases in ginger?\"\n",
    "result = qa.invoke(query)\n",
    "print(result)"
   ]
  },
  {
   "cell_type": "code",
   "execution_count": null,
   "id": "8cd71611",
   "metadata": {},
   "outputs": [],
   "source": []
  },
  {
   "cell_type": "markdown",
   "id": "f6323607",
   "metadata": {},
   "source": [
    "### chroma DB method"
   ]
  },
  {
   "cell_type": "code",
   "execution_count": 6,
   "id": "43c322b0",
   "metadata": {},
   "outputs": [
    {
     "name": "stdout",
     "output_type": "stream",
     "text": [
      "Total characters: 6181\n",
      "Ginger Cultivation Guide\n",
      "\n",
      "Introduction Ginger is an important spice and used in different forms such as raw ginger, dry ginger, bleached dry ginger, ginger powder oleoresin, ginger beer, ginger candy, ginger wine etc. Kerala is the major ginger growing state. Other major ginger growing states are Or\n"
     ]
    }
   ],
   "source": [
    "print(f\"Total characters: {len(docs[0].page_content)}\")\n",
    "print(docs[0].page_content[:300])"
   ]
  },
  {
   "cell_type": "code",
   "execution_count": 7,
   "id": "313b4eb0",
   "metadata": {},
   "outputs": [
    {
     "name": "stdout",
     "output_type": "stream",
     "text": [
      "Split docs into 47 sub-documents.\n"
     ]
    }
   ],
   "source": [
    "from langchain_text_splitters import RecursiveCharacterTextSplitter\n",
    "\n",
    "# text_splitter = RecursiveCharacterTextSplitter(\n",
    "#     chunk_size=1000,  # chunk size (characters)\n",
    "#     chunk_overlap=200,  # chunk overlap (characters)\n",
    "#     add_start_index=True,  # track index in original document\n",
    "# )\n",
    "text_splitter = RecursiveCharacterTextSplitter(\n",
    "    chunk_size=800,\n",
    "    chunk_overlap=100,\n",
    "    add_start_index=True,\n",
    ")\n",
    "\n",
    "all_splits = text_splitter.split_documents(docs)\n",
    "\n",
    "print(f\"Split docs into {len(all_splits)} sub-documents.\")"
   ]
  },
  {
   "cell_type": "code",
   "execution_count": 8,
   "id": "b81f9af3",
   "metadata": {},
   "outputs": [
    {
     "name": "stderr",
     "output_type": "stream",
     "text": [
      "C:\\Users\\sjasm\\AppData\\Local\\Temp\\ipykernel_20336\\3409896792.py:1: LangChainDeprecationWarning: The class `HuggingFaceEmbeddings` was deprecated in LangChain 0.2.2 and will be removed in 1.0. An updated version of the class exists in the :class:`~langchain-huggingface package and should be used instead. To use it run `pip install -U :class:`~langchain-huggingface` and import as `from :class:`~langchain_huggingface import HuggingFaceEmbeddings``.\n",
      "  embeddings = HuggingFaceEmbeddings(model_name=\"sentence-transformers/all-MiniLM-L6-v2\")\n"
     ]
    }
   ],
   "source": [
    "embeddings = HuggingFaceEmbeddings(model_name=\"sentence-transformers/all-MiniLM-L6-v2\")"
   ]
  },
  {
   "cell_type": "code",
   "execution_count": 9,
   "id": "14c0ec4f",
   "metadata": {},
   "outputs": [],
   "source": [
    "vector_store = Chroma(\n",
    "    collection_name=\"example_collection\",\n",
    "    embedding_function=embeddings,\n",
    "    persist_directory=\"./chroma_langchain_db\"\n",
    ")"
   ]
  },
  {
   "cell_type": "code",
   "execution_count": 10,
   "id": "69762adb",
   "metadata": {},
   "outputs": [],
   "source": [
    "# Index chunks\n",
    "_ = vector_store.add_documents(documents=all_splits)"
   ]
  },
  {
   "cell_type": "code",
   "execution_count": 11,
   "id": "69bbbb2d",
   "metadata": {},
   "outputs": [],
   "source": [
    "retriever = vector_store.as_retriever(search_kwargs={\"k\": 3})"
   ]
  },
  {
   "cell_type": "code",
   "execution_count": 26,
   "id": "4f6b6ee6",
   "metadata": {},
   "outputs": [],
   "source": [
    "query = \"seed cultivation ginger\"\n",
    "results = retriever.get_relevant_documents(query)\n"
   ]
  },
  {
   "cell_type": "code",
   "execution_count": 27,
   "id": "867c2f41",
   "metadata": {},
   "outputs": [
    {
     "data": {
      "text/plain": [
       "[Document(id='14633aee-a016-4d77-869e-5e8dcf8d1afb', metadata={'source': 'crop_cultivation_information\\\\ginger_info.txt', 'start_index': 1699}, page_content='Propagation Ginger is always propagated by rhizomes. Carefully preserved seeds rhizomes are cut into small pieces of 2.5-5cm length weighing 20-25g each having one or two good buds. The seed rate varies from region to region and with the method of cultivation adopted. The seed rhizomes are treated with 0.3% Dithane M-45 (3g in one litre of water) for 30 min, drained and planted at a spacing of 20-25cm along the rows and 20-25cm between the rows.'),\n",
       " Document(id='3b3badf8-2992-4256-a259-cdc596883ebf', metadata={'start_index': 1232, 'source': 'crop_cultivation_information\\\\ginger_info.txt'}, page_content='Varieties They are generally named after the localities or places where they are grown. Common cultivars are Maran, Assam and Rio-de-Janeiro, Suprabha, Suruchi, Suravi, Himagiri, China, Himachal, Nadia, HSR-Varada.\\n\\nSeason The best time for planting ginger in West Coast of India is during the first fortnight of May with the receipt of pre-monsoon showers. Under irrigated conditions, it can be planted well in advance during the middle of February or early March.\\n\\nPropagation Ginger is always propagated by rhizomes. Carefully preserved seeds rhizomes are cut into small pieces of 2.5-5cm length weighing 20-25g each having one or two good buds. The seed rate varies from region to region and with the method of cultivation adopted. The seed rhizomes are treated with 0.3% Dithane M-45 (3g in one litre of water) for 30 min, drained and planted at a spacing of 20-25cm along the rows and 20-25cm between the rows.'),\n",
       " Document(id='6cea16a0-afc5-4c05-9a8b-07078c4d6ede', metadata={'source': 'crop_cultivation_information\\\\ginger_info.txt', 'start_index': 0}, page_content='Ginger Cultivation Guide\\n\\nIntroduction Ginger is an important spice and used in different forms such as raw ginger, dry ginger, bleached dry ginger, ginger powder oleoresin, ginger beer, ginger candy, ginger wine etc. Kerala is the major ginger growing state. Other major ginger growing states are Orissa, Meghalaya, Himachal Pradesh and Karnataka. Ginger grows in warm and humid climate.')]"
      ]
     },
     "execution_count": 27,
     "metadata": {},
     "output_type": "execute_result"
    }
   ],
   "source": [
    "results"
   ]
  },
  {
   "cell_type": "code",
   "execution_count": null,
   "id": "c9150907",
   "metadata": {},
   "outputs": [],
   "source": []
  }
 ],
 "metadata": {
  "kernelspec": {
   "display_name": "new_env",
   "language": "python",
   "name": "python3"
  },
  "language_info": {
   "codemirror_mode": {
    "name": "ipython",
    "version": 3
   },
   "file_extension": ".py",
   "mimetype": "text/x-python",
   "name": "python",
   "nbconvert_exporter": "python",
   "pygments_lexer": "ipython3",
   "version": "3.10.11"
  }
 },
 "nbformat": 4,
 "nbformat_minor": 5
}
