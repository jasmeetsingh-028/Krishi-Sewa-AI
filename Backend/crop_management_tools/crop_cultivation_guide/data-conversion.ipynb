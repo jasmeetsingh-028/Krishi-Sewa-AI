{
 "cells": [
  {
   "cell_type": "code",
   "execution_count": 7,
   "id": "e50e8ea7",
   "metadata": {},
   "outputs": [],
   "source": [
    "import os\n",
    "import json\n",
    "from google import genai\n",
    "from google.genai import types\n",
    "from IPython import display"
   ]
  },
  {
   "cell_type": "code",
   "execution_count": 2,
   "id": "82e68cd2",
   "metadata": {},
   "outputs": [],
   "source": [
    "GOOGLE_API_KEY = os.getenv(\"GOOGLE_API_KEY\")\n",
    "client = genai.Client(api_key=GOOGLE_API_KEY)"
   ]
  },
  {
   "cell_type": "code",
   "execution_count": 3,
   "id": "3543fdcb",
   "metadata": {},
   "outputs": [],
   "source": [
    "dir_name = \"crop_cultivation_text/\""
   ]
  },
  {
   "cell_type": "code",
   "execution_count": 4,
   "id": "8b1a06e5",
   "metadata": {},
   "outputs": [],
   "source": [
    "def create_prompt(doc_text):\n",
    "    prompt = f\"\"\"\n",
    "Convert the following cultivation guide into a structured JSON.\n",
    "Use section headings as keys.\n",
    "Do not include explanations or extra text, return valid JSON only.\n",
    "\n",
    "Text:\n",
    "{doc_text}\n",
    "\"\"\"\n",
    "    return prompt"
   ]
  },
  {
   "cell_type": "code",
   "execution_count": 12,
   "id": "bee18a6e",
   "metadata": {},
   "outputs": [
    {
     "name": "stdout",
     "output_type": "stream",
     "text": [
      "Processing file: arhar_info.txt\n",
      "Processing file: bittergourd_info.txt\n",
      "Processing file: cabbage_info.txt\n",
      "Processing file: frenchbeans_info.txt\n",
      "Processing file: gavarbeans.txt\n",
      "Processing file: groundnut_info.txt\n",
      "Processing file: linseed_info.txt\n",
      "Processing file: okra_info.txt\n",
      "Processing file: onion_info.txt\n",
      "Processing file: peas_info.txt\n",
      "Processing file: potato_info.txt\n",
      "Processing file: rice_info.txt\n",
      "Processing file: sesamum_info.txt\n",
      "Processing file: soyabean_info.txt\n",
      "Processing file: sugarbeet_info.txt\n",
      "Processing file: sugarcane_info.txt\n",
      "Processing file: sunflower_info.txt\n"
     ]
    }
   ],
   "source": [
    "for filename in os.listdir(dir_name):\n",
    "\n",
    "    with open(os.path.join(dir_name, filename), \"r\", encoding=\"utf-8\") as f:\n",
    "        doc_text = f.read()\n",
    "    print('Processing file:', filename)\n",
    "\n",
    "    response = client.models.generate_content(\n",
    "    model=\"gemini-2.5-pro\",\n",
    "    contents=create_prompt(doc_text),\n",
    "    config={\n",
    "        \"response_mime_type\": \"application/json\"  # forces JSON output\n",
    "    })\n",
    "\n",
    "    json_output = response.text\n",
    "    data = json.loads(json_output)\n",
    "    with open(os.path.join(\"crop_cultivation_json\", f\"{filename[:-9]}.json\"), \"w\", encoding=\"utf-8\") as f:\n",
    "        json.dump(data, f, indent=2, ensure_ascii=False)\n"
   ]
  },
  {
   "cell_type": "code",
   "execution_count": 10,
   "id": "546f69e0",
   "metadata": {},
   "outputs": [],
   "source": [
    "data = json.loads(json_output)\n",
    "with open(os.path.join(\"crop_cultivation_json\", f\"bajra.json\"), \"w\", encoding=\"utf-8\") as f:\n",
    "        json.dump(data, f, indent=2, ensure_ascii=False)"
   ]
  },
  {
   "cell_type": "code",
   "execution_count": 8,
   "id": "49d2b0b3",
   "metadata": {},
   "outputs": [
    {
     "name": "stdout",
     "output_type": "stream",
     "text": [
      "ginger\n"
     ]
    }
   ],
   "source": [
    "txt = 'ginger_info.txt'\n",
    "print(txt[:-9])"
   ]
  },
  {
   "cell_type": "code",
   "execution_count": 23,
   "id": "c65fd9ab",
   "metadata": {},
   "outputs": [
    {
     "name": "stdout",
     "output_type": "stream",
     "text": [
      "Top-level keys: ['Introduction', 'Requirement', 'Varieties', 'Season', 'Propagation', 'Manuring', 'Intercultural operations', 'Plant Protection', 'Harvesting and curing', 'Preservation of seed rhizomes', 'Dry ginger']\n",
      "Requirement sub-keys: ['Climate', 'Soil', 'Preparation of land planting']\n"
     ]
    }
   ],
   "source": [
    "import json\n",
    "\n",
    "# Load JSON file\n",
    "with open(os.path.join(\"crop_cultivation_information\", f\"ginger_info.txt.json\"), \"r\", encoding=\"utf-8\") as f:\n",
    "    data = json.load(f)\n",
    "\n",
    "# Print all top-level keys\n",
    "print(\"Top-level keys:\", list(data.keys()))\n",
    "\n",
    "# If it's nested, you can also inspect sub-keys\n",
    "if \"Requirement\" in data:\n",
    "    print(\"Requirement sub-keys:\", list(data[\"Requirement\"].keys()))\n"
   ]
  },
  {
   "cell_type": "code",
   "execution_count": null,
   "id": "d7545d32",
   "metadata": {},
   "outputs": [],
   "source": []
  }
 ],
 "metadata": {
  "kernelspec": {
   "display_name": "new_env",
   "language": "python",
   "name": "python3"
  },
  "language_info": {
   "codemirror_mode": {
    "name": "ipython",
    "version": 3
   },
   "file_extension": ".py",
   "mimetype": "text/x-python",
   "name": "python",
   "nbconvert_exporter": "python",
   "pygments_lexer": "ipython3",
   "version": "3.10.11"
  }
 },
 "nbformat": 4,
 "nbformat_minor": 5
}
