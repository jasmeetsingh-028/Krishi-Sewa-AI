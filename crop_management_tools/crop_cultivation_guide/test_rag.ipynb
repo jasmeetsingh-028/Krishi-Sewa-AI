{
 "cells": [
  {
   "cell_type": "code",
   "execution_count": 2,
   "id": "307acc22",
   "metadata": {},
   "outputs": [],
   "source": [
    "from langchain.vectorstores import FAISS\n",
    "from langchain.embeddings import HuggingFaceEmbeddings"
   ]
  },
  {
   "cell_type": "code",
   "execution_count": 3,
   "id": "1985e151",
   "metadata": {},
   "outputs": [
    {
     "name": "stderr",
     "output_type": "stream",
     "text": [
      "C:\\Users\\sjasm\\AppData\\Local\\Temp\\ipykernel_2332\\3409896792.py:1: LangChainDeprecationWarning: The class `HuggingFaceEmbeddings` was deprecated in LangChain 0.2.2 and will be removed in 1.0. An updated version of the class exists in the :class:`~langchain-huggingface package and should be used instead. To use it run `pip install -U :class:`~langchain-huggingface` and import as `from :class:`~langchain_huggingface import HuggingFaceEmbeddings``.\n",
      "  embeddings = HuggingFaceEmbeddings(model_name=\"sentence-transformers/all-MiniLM-L6-v2\")\n"
     ]
    }
   ],
   "source": [
    "embeddings = HuggingFaceEmbeddings(model_name=\"sentence-transformers/all-MiniLM-L6-v2\")"
   ]
  },
  {
   "cell_type": "code",
   "execution_count": 4,
   "id": "28d85b82",
   "metadata": {},
   "outputs": [],
   "source": [
    "from langchain.chat_models import init_chat_model\n",
    "from dotenv import load_dotenv\n",
    "\n",
    "load_dotenv()\n",
    "\n",
    "## Create the LLM\n",
    "llm =  init_chat_model(\"gemini-2.5-flash\", model_provider=\"google_genai\")"
   ]
  },
  {
   "cell_type": "code",
   "execution_count": 7,
   "id": "1f6d32d6",
   "metadata": {},
   "outputs": [],
   "source": [
    "vectorstore = FAISS.load_local(\n",
    "    \"faiss_index_vectorstore\",\n",
    "    embeddings,\n",
    "    allow_dangerous_deserialization=True  # ⚠️ safe here because it's your own file\n",
    ")"
   ]
  },
  {
   "cell_type": "code",
   "execution_count": 8,
   "id": "1d68fe2b",
   "metadata": {},
   "outputs": [
    {
     "name": "stderr",
     "output_type": "stream",
     "text": [
      "C:\\Users\\sjasm\\AppData\\Local\\Temp\\ipykernel_2332\\3269977696.py:3: LangChainDeprecationWarning: The method `BaseRetriever.get_relevant_documents` was deprecated in langchain-core 0.1.46 and will be removed in 1.0. Use :meth:`~invoke` instead.\n",
      "  docs = retriever.get_relevant_documents(\"Diseases in ginger?\")\n"
     ]
    }
   ],
   "source": [
    "# Use as retriever\n",
    "retriever = vectorstore.as_retriever(search_kwargs={\"k\": 5})\n",
    "docs = retriever.get_relevant_documents(\"Diseases in ginger?\")"
   ]
  },
  {
   "cell_type": "code",
   "execution_count": 9,
   "id": "719ba1b2",
   "metadata": {},
   "outputs": [
    {
     "name": "stdout",
     "output_type": "stream",
     "text": [
      "[Document(id='b9c4d4a8-ce8b-41fb-b308-61f48900a2ac', metadata={'source': 'ginger.json', 'chunk': 0}, page_content='{\\n  \"Introduction\": \"Ginger is an important spice and used in different forms such as raw ginger, dry ginger, bleached dry ginger, ginger powder oleoresin, ginger beer, ginger candy, ginger wine etc. Kerala is the major ginger growing state. Other major ginger growing states are Orissa, Meghalaya, Himachal Pradesh and Karnataka. Ginger grows in warm and humid climate.\",\\n  \"Requirement\": {\\n    \"Climate\": \"Ginger can be grown both under rainfed and irrigated conditions. A moderate rainfall at the sowing time till the rhizomes sprout, fairly heavy and well distributed showers during the growing period and dry weather for about a month before harvesting are necessary.\",'), Document(id='dde18b85-829c-4156-8ccd-726e739b64a9', metadata={'source': 'ginger.json', 'chunk': 3}, page_content='\"Propagation\": \"Ginger is always propagated by rhizomes. Carefully preserved seeds rhizomes are cut into small pieces of 2.5-5cm length weighing 20-25g each having one or two good buds. The seed rate varies from region to region and with the method of cultivation adopted. The seed rhizomes are treated with 0.3% Dithane M-45 (3g in one litre of water) for 30 min, drained and planted at a spacing of 20-25cm along the rows and 20-25cm between the rows.\",'), Document(id='cc280d82-c408-477e-a1f8-b93375b8077d', metadata={'source': 'ginger.json', 'chunk': 10}, page_content='\"Dry ginger\": \"For dry ginger the produce is kept soaked in water overnight. The rhizomes are then rubbed well to clean them. The rhizomes are removed from the water and the outer skin is removed with bamboo splinters. The peeled rhizomes are washed and dried in sun uniformly for one week. To get good appearance, peeled rhizomes are soaked in 2% lime water for 6 hours and dried thereafter. The yield of dry ginger is 16-25% of the fresh ginger depending on the variety.\"\\n}'), Document(id='6e3fc009-6e34-41e3-a693-e9744ed9dd7b', metadata={'source': 'sugarcane.json', 'chunk': 12}, page_content='\"Control\": \"Burn all trash after harvest; Practice clean cultivation; collect and destroy egg masses and larvae during early stages of crop.\"\\n      }\\n    ],\\n    \"Disease\": [\\n      {\\n        \"Name\": \"Red rot\",\\n        \"Cause\": \"Fungal disease\",\\n        \"Symptoms\": \"The symptoms of the disease will appear when the crop is about six months old. At the initial stage, drying of top leaves can be seen. The leaf starts withering and drooping almost all shoots in a clump starts drying one by one. Red lesions with straw coloured centres develop on the midrib of leaves.\",'), Document(id='7083f0f0-cce6-47f2-b3fa-d2314d0d863f', metadata={'source': 'ginger.json', 'chunk': 8}, page_content='}\\n    }\\n  },\\n  \"Harvesting and curing\": \"The crop is ready for harvest in about eight month\\'s time when the leaves turn yellow, and start drying up gradually. The clumps are lifted carefully with a spade or digging fork, and the rhizomes are separated from the dried up leaves, roots and adhering soft. For making vegetables ginger, harvesting is done from 16 months onwards. The rhizomes are thoroughly washed in water twice or thrice and sun-dried for a day. The average yield of fresh ginger per hectare varies with varieties ranging 15-25 tonnes.\",')]\n"
     ]
    }
   ],
   "source": [
    "print(docs)"
   ]
  },
  {
   "cell_type": "code",
   "execution_count": 10,
   "id": "44f893bc",
   "metadata": {},
   "outputs": [
    {
     "name": "stdout",
     "output_type": "stream",
     "text": [
      "Source file: ginger.json\n",
      "Content snippet: {\n",
      "  \"Introduction\": \"Ginger is an important spice and used in different forms such as raw ginger, dry ginger, bleached dry ginger, ginger powder oleoresin, ginger beer, ginger candy, ginger wine etc. \n",
      "--------------------------------------------------\n",
      "Source file: ginger.json\n",
      "Content snippet: \"Propagation\": \"Ginger is always propagated by rhizomes. Carefully preserved seeds rhizomes are cut into small pieces of 2.5-5cm length weighing 20-25g each having one or two good buds. The seed rate \n",
      "--------------------------------------------------\n",
      "Source file: ginger.json\n",
      "Content snippet: \"Dry ginger\": \"For dry ginger the produce is kept soaked in water overnight. The rhizomes are then rubbed well to clean them. The rhizomes are removed from the water and the outer skin is removed with\n",
      "--------------------------------------------------\n",
      "Source file: sugarcane.json\n",
      "Content snippet: \"Control\": \"Burn all trash after harvest; Practice clean cultivation; collect and destroy egg masses and larvae during early stages of crop.\"\n",
      "      }\n",
      "    ],\n",
      "    \"Disease\": [\n",
      "      {\n",
      "        \"Name\": \"R\n",
      "--------------------------------------------------\n"
     ]
    }
   ],
   "source": [
    "retriever = vectorstore.as_retriever()\n",
    "docs = retriever.get_relevant_documents(\"Diseases in ginger?\")\n",
    "\n",
    "for doc in docs:\n",
    "    print(\"Source file:\", doc.metadata.get(\"source\"))\n",
    "    print(\"Content snippet:\", doc.page_content[:200])  # first 200 chars\n",
    "    print(\"-\" * 50)"
   ]
  },
  {
   "cell_type": "code",
   "execution_count": null,
   "id": "58799825",
   "metadata": {},
   "outputs": [],
   "source": []
  }
 ],
 "metadata": {
  "kernelspec": {
   "display_name": "new_env",
   "language": "python",
   "name": "python3"
  },
  "language_info": {
   "codemirror_mode": {
    "name": "ipython",
    "version": 3
   },
   "file_extension": ".py",
   "mimetype": "text/x-python",
   "name": "python",
   "nbconvert_exporter": "python",
   "pygments_lexer": "ipython3",
   "version": "3.10.11"
  }
 },
 "nbformat": 4,
 "nbformat_minor": 5
}
